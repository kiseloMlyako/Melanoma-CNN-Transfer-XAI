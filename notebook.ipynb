{
 "cells": [
  {
   "cell_type": "raw",
   "metadata": {},
   "source": [
    "title: Melanoma CNN Transfer Learning (ResNet50V2)\n",
    "author: Nikola Kalinkov (3374602)\n",
    "date: \"2023-03-22\"\n",
    "output:\n",
    "  general:\n",
    "    input_jinja: false\n",
    "    input: true\n",
    "    output_error: false\n",
    "  html:\n",
    "    toc: true\n",
    "    toc_depth: 3\n",
    "    number_sections: false\n",
    "    code_folding: show\n",
    "    code_tools: true\n",
    "    theme: darkly\n"
   ]
  },
  {
   "cell_type": "code",
   "execution_count": 1,
   "metadata": {},
   "outputs": [],
   "source": [
    "# -.-|m { input_fold: hide }\n",
    "%load_ext pretty_jupyter"
   ]
  },
  {
   "cell_type": "markdown",
   "metadata": {},
   "source": [
    "# <div align=\"center\" style=\"padding: 10px; font-weight: bold;\">Introduction</div>\n",
    "\n",
    "In this assignment, we will look into the detection of melanoma using a Convolutional Neural Network (CNN) by applying transfer learning with a pre-trained model. I decided using the <a href=\"https://www.kaggle.com/datasets/bhaveshmittal/melanoma-cancer-dataset/\" target=\"_blank\"><b>🔬Melanoma Cancer Image Dataset</b></a>. It consists of 13 900 high-resolution images in test and train sets, both divided in two categorical fodlers - Benign and Malignant. The test folders comprise ot 1 000 photos each.\n",
    "\n",
    "For the choice of the pre-trained model I searched for previous uses and researches. Based on the performance comparison in the <a href=\"https://www.biorxiv.org/content/10.1101/2020.05.22.110973v3\" target=\"_blank\"><b>Sagar (2020)</b></a> research I decided to opt for the <a href=\"https://keras.io/api/applications/resnet/#resnet50v2-function\" target=\"_blank\"><b>ResNet50V2</b></a> model."
   ]
  },
  {
   "cell_type": "code",
   "execution_count": 3,
   "metadata": {},
   "outputs": [],
   "source": [
    "a = 10\n",
    "b = 5"
   ]
  }
 ],
 "metadata": {
  "kernelspec": {
   "display_name": "ai7",
   "language": "python",
   "name": "python3"
  },
  "language_info": {
   "codemirror_mode": {
    "name": "ipython",
    "version": 3
   },
   "file_extension": ".py",
   "mimetype": "text/x-python",
   "name": "python",
   "nbconvert_exporter": "python",
   "pygments_lexer": "ipython3",
   "version": "3.11.8"
  }
 },
 "nbformat": 4,
 "nbformat_minor": 2
}
